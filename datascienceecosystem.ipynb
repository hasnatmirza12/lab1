{
  "metadata": {
    "kernelspec": {
      "name": "python",
      "display_name": "Python (Pyodide)",
      "language": "python"
    },
    "language_info": {
      "codemirror_mode": {
        "name": "python",
        "version": 3
      },
      "file_extension": ".py",
      "mimetype": "text/x-python",
      "name": "python",
      "nbconvert_exporter": "python",
      "pygments_lexer": "ipython3",
      "version": "3.8"
    }
  },
  "nbformat_minor": 5,
  "nbformat": 4,
  "cells": [
    {
      "id": "98525f9f-5572-4549-abe7-13651095b29b",
      "cell_type": "markdown",
      "source": "Data Science Tools and Ecosystem ",
      "metadata": {}
    },
    {
      "id": "9f847f6a-cbbf-49e5-afcc-1dca1aee5a2d",
      "cell_type": "markdown",
      "source": "In this notebook, Data Science Tools and Ecosystem are summarized",
      "metadata": {}
    },
    {
      "id": "df2fa4ab-d767-4cea-ac4a-8eaa270626a1",
      "cell_type": "markdown",
      "source": "Some of the popular languages that Data Scientists use are:",
      "metadata": {}
    },
    {
      "id": "39d99829-2529-467f-9369-d19b49d73cc5",
      "cell_type": "markdown",
      "source": "1 python",
      "metadata": {}
    },
    {
      "id": "ad3abee4-4c94-46e1-8706-963bd2f703c0",
      "cell_type": "markdown",
      "source": "2 R ",
      "metadata": {}
    },
    {
      "id": "82548a7f-dc11-48cb-b89d-7e427bbf7d67",
      "cell_type": "markdown",
      "source": "3 julia",
      "metadata": {}
    },
    {
      "id": "3790c07d-1029-408e-ada1-0998134d1806",
      "cell_type": "markdown",
      "source": "| Data Science Tools |\n|----------|\n|   jupyter   |   \n|   anaconda   |  \n|   Rstudio   |  \n\n",
      "metadata": {}
    },
    {
      "id": "1b376172-dbc9-445f-98c6-03185cb65e04",
      "cell_type": "markdown",
      "source": "### Below are a few examples of evaluating arithmetic expressions in Python",
      "metadata": {}
    },
    {
      "id": "354bef6a-8291-437f-adc3-65c2fca430bd",
      "cell_type": "code",
      "source": "# This a simple arithmetic expression to mutiply then add integers",
      "metadata": {
        "trusted": true
      },
      "outputs": [],
      "execution_count": 1
    },
    {
      "id": "b1bad983-baeb-4236-a7af-316c37f60a7f",
      "cell_type": "code",
      "source": "(3*4)+5",
      "metadata": {
        "trusted": true
      },
      "outputs": [
        {
          "execution_count": 2,
          "output_type": "execute_result",
          "data": {
            "text/plain": "17"
          },
          "metadata": {}
        }
      ],
      "execution_count": 2
    },
    {
      "id": "3a92ba3b-6165-4068-9a9f-b5f5087e502e",
      "cell_type": "code",
      "source": "#This will convert 200 minutes to hours by diving by 60",
      "metadata": {
        "trusted": true
      },
      "outputs": [],
      "execution_count": 3
    },
    {
      "id": "9b77db63-757a-45f3-83a5-09a927b7a6a1",
      "cell_type": "code",
      "source": "200/60",
      "metadata": {
        "trusted": true
      },
      "outputs": [
        {
          "execution_count": 4,
          "output_type": "execute_result",
          "data": {
            "text/plain": "3.3333333333333335"
          },
          "metadata": {}
        }
      ],
      "execution_count": 4
    },
    {
      "id": "0f3b5190-1bda-4967-9b5b-ed0a397188e4",
      "cell_type": "markdown",
      "source": "## Objectives",
      "metadata": {}
    },
    {
      "id": "0101c257-938b-4f2f-a216-d791b140e5d6",
      "cell_type": "markdown",
      "source": "### Topics Covered in This Notebook\n\n- List popular languages for Data Science  \n- Create and render Markdown tables  \n- Arithematic expressions \n- Add comments in both code and Markdown cells  \n- tools for datascience",
      "metadata": {}
    },
    {
      "id": "14528fdc-4524-4cc2-ad83-b45c59b4a158",
      "cell_type": "markdown",
      "source": "## Author",
      "metadata": {}
    },
    {
      "id": "22ece3a5-7446-41f3-b3c3-c2a90942be02",
      "cell_type": "markdown",
      "source": "Hasnaat Abdullah",
      "metadata": {}
    },
    {
      "id": "cfcca656-19b8-43fb-99a3-57c2c358fc40",
      "cell_type": "code",
      "source": "",
      "metadata": {
        "trusted": true
      },
      "outputs": [],
      "execution_count": null
    }
  ]
}